{
  "nbformat": 4,
  "nbformat_minor": 0,
  "metadata": {
    "colab": {
      "provenance": []
    },
    "kernelspec": {
      "name": "python3",
      "display_name": "Python 3"
    },
    "language_info": {
      "name": "python"
    }
  },
  "cells": [
    {
      "cell_type": "code",
      "source": [
        "import pandas as pd\n",
        "import matplotlib.pyplot as plt\n",
        "import seaborn as sns\n",
        "import numpy as np\n",
        "from sklearn.preprocessing import MinMaxScaler, LabelEncoder"
      ],
      "metadata": {
        "id": "BXM_E7L5oXyI"
      },
      "execution_count": 5,
      "outputs": []
    },
    {
      "cell_type": "code",
      "source": [
        "import matplotlib.pyplot as plt\n",
        "\n",
        "# Enable inline plotting for Jupyter/Colab\n",
        "%matplotlib inline\n",
        "\n"
      ],
      "metadata": {
        "id": "E1BzF-AbpGc7"
      },
      "execution_count": 16,
      "outputs": []
    },
    {
      "cell_type": "code",
      "source": [
        "# Convert GDP column to numeric if not done already\n",
        "merged_df[\"2021 [YR2021]\"] = pd.to_numeric(merged_df[\"2021 [YR2021]\"], errors=\"coerce\")\n",
        "\n",
        "# Keep only valid countries (3-letter ISO codes)\n",
        "filtered_df = merged_df[merged_df[\"Country Code\"].str.len() == 3]\n",
        "\n",
        "# Get the top 10 actual countries by GDP\n",
        "top_gdp_countries = filtered_df.nlargest(10, \"2021 [YR2021]\")[[\"Country Name\", \"2021 [YR2021]\"]]\n",
        "\n",
        "# Verify correct filtering\n",
        "print(top_gdp_countries)\n"
      ],
      "metadata": {
        "colab": {
          "base_uri": "https://localhost:8080/"
        },
        "id": "83fBawaCv2ZE",
        "outputId": "ed92f25f-16aa-4909-a65b-e87344d2b784"
      },
      "execution_count": 66,
      "outputs": [
        {
          "output_type": "stream",
          "name": "stdout",
          "text": [
            "          Country Name  2021 [YR2021]\n",
            "4144             World   1.555548e+14\n",
            "4145             World   1.555548e+14\n",
            "4146             World   1.555548e+14\n",
            "4147             World   1.555548e+14\n",
            "1648  IDA & IBRD total   8.816395e+13\n",
            "1649  IDA & IBRD total   8.816395e+13\n",
            "1650  IDA & IBRD total   8.816395e+13\n",
            "1651  IDA & IBRD total   8.816395e+13\n",
            "1632         IBRD only   7.992330e+13\n",
            "1633         IBRD only   7.992330e+13\n"
          ]
        }
      ]
    },
    {
      "cell_type": "code",
      "source": [
        "# Convert GDP column to numeric\n",
        "merged_df[\"2021 [YR2021]\"] = pd.to_numeric(merged_df[\"2021 [YR2021]\"], errors=\"coerce\")\n",
        "\n",
        "# Comprehensive exclusion list for regional aggregates and non-country groups\n",
        "excluded_terms = [\n",
        "    \"World\", \"IBRD\", \"IDA\", \"Total\", \"High income\", \"Low income\", \"Middle income\",\n",
        "    \"Upper middle income\", \"Lower middle income\", \"Euro area\", \"OECD\", \"Sub-Saharan\",\n",
        "    \"South Asia\", \"Post-demographic\", \"Late-demographic\", \"Early-demographic\",\n",
        "    \"Latin America\", \"Africa\", \"East Asia\", \"European Union\", \"Europe & Central Asia\",\n",
        "    \"Middle East\", \"Pacific\", \"Developing\", \"Emerging\", \"Least developed countries\",\n",
        "    \"Small states\", \"Fragile and conflict affected\", \"North America\", \"South America\"\n",
        "]\n",
        "\n",
        "# Apply filtering to remove non-country aggregates\n",
        "filtered_df = merged_df[~merged_df[\"Country Name\"].str.contains('|'.join(excluded_terms), na=False, case=False)]\n",
        "\n",
        "# Get the top 10 actual countries by GDP\n",
        "top_gdp_countries = filtered_df.nlargest(10, \"2021 [YR2021]\")[[\"Country Name\", \"2021 [YR2021]\"]]\n",
        "\n",
        "# Verify that non-country names are removed\n",
        "print(top_gdp_countries)\n"
      ],
      "metadata": {
        "colab": {
          "base_uri": "https://localhost:8080/"
        },
        "id": "W46nz53fxZKN",
        "outputId": "68b57d31-d619-4810-bdda-317d37969275"
      },
      "execution_count": 69,
      "outputs": [
        {
          "output_type": "stream",
          "name": "stdout",
          "text": [
            "       Country Name  2021 [YR2021]\n",
            "640           China   2.882165e+13\n",
            "641           China   2.882165e+13\n",
            "642           China   2.882165e+13\n",
            "643           China   2.882165e+13\n",
            "4016  United States   2.368117e+13\n",
            "4017  United States   2.368117e+13\n",
            "4018  United States   2.368117e+13\n",
            "4019  United States   2.368117e+13\n",
            "1744          India   1.138437e+13\n",
            "1745          India   1.138437e+13\n"
          ]
        }
      ]
    },
    {
      "cell_type": "code",
      "source": [
        "# Drop duplicate country names, keeping only the first occurrence\n",
        "top_gdp_countries = top_gdp_countries.drop_duplicates(subset=[\"Country Name\"], keep=\"first\")\n",
        "\n",
        "# Verify duplicates are gone\n",
        "print(top_gdp_countries)\n"
      ],
      "metadata": {
        "colab": {
          "base_uri": "https://localhost:8080/"
        },
        "id": "ulrd8POQxm_F",
        "outputId": "df894384-3e5a-4ca7-aacb-8eef542422d5"
      },
      "execution_count": 70,
      "outputs": [
        {
          "output_type": "stream",
          "name": "stdout",
          "text": [
            "       Country Name  2021 [YR2021]\n",
            "640           China   2.882165e+13\n",
            "4016  United States   2.368117e+13\n",
            "1744          India   1.138437e+13\n"
          ]
        }
      ]
    },
    {
      "cell_type": "code",
      "source": [
        "import seaborn as sns\n",
        "import matplotlib.pyplot as plt\n",
        "\n",
        "plt.figure(figsize=(10, 6))\n",
        "sns.barplot(y=top_gdp_countries[\"Country Name\"],\n",
        "            x=top_gdp_countries[\"2021 [YR2021]\"],\n",
        "            palette=\"viridis\")\n",
        "plt.xlabel(\"GDP Value (2021)\")\n",
        "plt.ylabel(\"Country Name\")\n",
        "plt.title(\"Top 10 Countries by GDP (2021)\")\n",
        "plt.show()\n"
      ],
      "metadata": {
        "colab": {
          "base_uri": "https://localhost:8080/",
          "height": 631
        },
        "id": "l9FH0wT0xvxV",
        "outputId": "1a320f97-6205-4a07-bf52-3c9259982f27"
      },
      "execution_count": 71,
      "outputs": [
        {
          "output_type": "stream",
          "name": "stderr",
          "text": [
            "<ipython-input-71-2cf28609a7fa>:5: FutureWarning: \n",
            "\n",
            "Passing `palette` without assigning `hue` is deprecated and will be removed in v0.14.0. Assign the `y` variable to `hue` and set `legend=False` for the same effect.\n",
            "\n",
            "  sns.barplot(y=top_gdp_countries[\"Country Name\"],\n"
          ]
        },
        {
          "output_type": "display_data",
          "data": {
            "text/plain": [
              "<Figure size 1000x600 with 1 Axes>"
            ],
            "image/png": "[encoded data removed]"
          },
          "metadata": {}
        }
      ]
    },
    {
      "cell_type": "code",
      "source": [
        "# Convert GDP column to numeric\n",
        "filtered_df[\"2021 [YR2021]\"] = pd.to_numeric(filtered_df[\"2021 [YR2021]\"], errors=\"coerce\")\n",
        "\n",
        "# Define a list of known regional aggregates to exclude\n",
        "aggregates_to_exclude = [\n",
        "    \"Pre-demographic dividend\", \"Central Europe and the Baltics\",\n",
        "    \"Heavily indebted poor countries (HIPC)\", \"Low & middle income\",\n",
        "    \"Middle income\", \"Late-demographic dividend\", \"Early-demographic dividend\"\n",
        "]\n",
        "\n",
        "# Filter out these aggregate groups\n",
        "filtered_df = filtered_df[~filtered_df[\"Country Name\"].isin(aggregates_to_exclude)]\n",
        "\n",
        "# Get the top 10 real countries by GDP\n",
        "top_gdp_countries = filtered_df.nlargest(10, \"2021 [YR2021]\")[[\"Country Name\", \"2021 [YR2021]\"]]\n",
        "\n",
        "# Plot the updated bar chart\n",
        "import seaborn as sns\n",
        "import matplotlib.pyplot as plt\n",
        "\n",
        "plt.figure(figsize=(10, 6))\n",
        "sns.barplot(y=top_gdp_countries[\"Country Name\"], x=top_gdp_countries[\"2021 [YR2021]\"], palette=\"coolwarm\")\n",
        "plt.xlabel(\"GDP Value (2021)\")\n",
        "plt.ylabel(\"Country Name\")\n",
        "plt.title(\"Top 10 Countries by GDP (2021)\")\n",
        "plt.show()\n"
      ],
      "metadata": {
        "colab": {
          "base_uri": "https://localhost:8080/",
          "height": 740
        },
        "id": "sW8k4JVMzglG",
        "outputId": "15aa1352-fc1b-44a3-a40c-9ef7c4efb418"
      },
      "execution_count": 77,
      "outputs": [
        {
          "output_type": "stream",
          "name": "stderr",
          "text": [
            "<ipython-input-77-472a601b4e0d>:2: SettingWithCopyWarning: \n",
            "A value is trying to be set on a copy of a slice from a DataFrame.\n",
            "Try using .loc[row_indexer,col_indexer] = value instead\n",
            "\n",
            "See the caveats in the documentation: https://pandas.pydata.org/pandas-docs/stable/user_guide/indexing.html#returning-a-view-versus-a-copy\n",
            "  filtered_df[\"2021 [YR2021]\"] = pd.to_numeric(filtered_df[\"2021 [YR2021]\"], errors=\"coerce\")\n",
            "<ipython-input-77-472a601b4e0d>:22: FutureWarning: \n",
            "\n",
            "Passing `palette` without assigning `hue` is deprecated and will be removed in v0.14.0. Assign the `y` variable to `hue` and set `legend=False` for the same effect.\n",
            "\n",
            "  sns.barplot(y=top_gdp_countries[\"Country Name\"], x=top_gdp_countries[\"2021 [YR2021]\"], palette=\"coolwarm\")\n"
          ]
        },
        {
          "output_type": "display_data",
          "data": {
            "text/plain": [
              "<Figure size 1000x600 with 1 Axes>"
            ],
            "image/png": "[encoded data removed]"
          },
          "metadata": {}
        }
      ]
    },
    {
      "cell_type": "code",
      "source": [],
      "metadata": {
        "id": "QT_cPToKzg6q"
      },
      "execution_count": null,
      "outputs": []
    },
    {
      "cell_type": "code",
      "source": [
        "print(\"Number of unique countries with GDP data:\", filtered_df[\"Country Name\"].nunique())\n",
        "\n",
        "# Show the top 20 countries sorted by GDP\n",
        "print(filtered_df[[\"Country Name\", \"2021 [YR2021]\"]].drop_duplicates().nlargest(20, \"2021 [YR2021]\"))\n"
      ],
      "metadata": {
        "colab": {
          "base_uri": "https://localhost:8080/"
        },
        "id": "2M18yxHwzPRw",
        "outputId": "ffc1e077-00b6-44fa-9353-53e61f8bc911"
      },
      "execution_count": 76,
      "outputs": [
        {
          "output_type": "stream",
          "name": "stdout",
          "text": [
            "Number of unique countries with GDP data: 218\n",
            "                                Country Name  2021 [YR2021]\n",
            "640                                    China   2.882165e+13\n",
            "4016                           United States   2.368117e+13\n",
            "1744                                   India   1.138437e+13\n",
            "3232                      Russian Federation   5.732444e+12\n",
            "1904                                   Japan   5.573684e+12\n",
            "880                                  Germany   5.197622e+12\n",
            "3056                Pre-demographic dividend   4.100178e+12\n",
            "576           Central Europe and the Baltics   4.018426e+12\n",
            "464                                   Brazil   3.787770e+12\n",
            "1232                                  France   3.559702e+12\n",
            "1696                               Indonesia   3.530623e+12\n",
            "1296                          United Kingdom   3.416930e+12\n",
            "1856                                   Italy   2.943669e+12\n",
            "2464                                  Mexico   2.652094e+12\n",
            "3904                                 Turkiye   2.634650e+12\n",
            "1568  Heavily indebted poor countries (HIPC)   2.587410e+12\n",
            "2016                             Korea, Rep.   2.485843e+12\n",
            "560                                   Canada   2.162380e+12\n",
            "1120                                   Spain   2.097572e+12\n",
            "1072                        Egypt, Arab Rep.   1.728601e+12\n"
          ]
        }
      ]
    },
    {
      "cell_type": "code",
      "source": [],
      "metadata": {
        "id": "XS1oQB0AzPi0"
      },
      "execution_count": null,
      "outputs": []
    },
    {
      "cell_type": "code",
      "source": [
        "plt.figure(figsize=(8, 5))\n",
        "sns.boxplot(x=merged_df[\"2021 [YR2021]\"])\n",
        "plt.title(\"Boxplot of GDP Data (2021)\")\n",
        "plt.xlabel(\"GDP Value\")\n",
        "plt.show()\n"
      ],
      "metadata": {
        "colab": {
          "base_uri": "https://localhost:8080/",
          "height": 487
        },
        "id": "lbWZOkBOr7D8",
        "outputId": "d8204c91-abc4-4ba1-ae17-6f7b706f1170"
      },
      "execution_count": 72,
      "outputs": [
        {
          "output_type": "display_data",
          "data": {
            "text/plain": [
              "<Figure size 800x500 with 1 Axes>"
            ],
            "image/png": "[encoded data removed]"
          },
          "metadata": {}
        }
      ]
    },
    {
      "cell_type": "code",
      "source": [
        "# Convert GDP columns to numeric\n",
        "gdp_cols = [\"2021 [YR2021]\", \"2022 [YR2022]\", \"2023 [YR2023]\"]\n",
        "for col in gdp_cols:\n",
        "    filtered_df[col] = pd.to_numeric(filtered_df[col], errors=\"coerce\")\n",
        "\n",
        "# Select top 5 countries with the highest GDP in 2021\n",
        "top_countries = filtered_df.nlargest(5, \"2021 [YR2021]\")[[\"Country Name\"] + gdp_cols]\n",
        "\n",
        "# Transpose data for better plotting\n",
        "top_countries_melted = top_countries.melt(id_vars=[\"Country Name\"], var_name=\"Year\", value_name=\"GDP\")\n",
        "\n",
        "# Plot the GDP trend\n",
        "import seaborn as sns\n",
        "import matplotlib.pyplot as plt\n",
        "\n",
        "plt.figure(figsize=(10, 6))\n",
        "sns.lineplot(data=top_countries_melted, x=\"Year\", y=\"GDP\", hue=\"Country Name\", marker=\"o\")\n",
        "plt.xlabel(\"Year\")\n",
        "plt.ylabel(\"GDP (in trillions)\")\n",
        "plt.title(\"GDP Trends Over Time (2021-2023)\")\n",
        "plt.xticks(rotation=45)\n",
        "plt.legend(title=\"Country Name\")\n",
        "plt.show()\n"
      ],
      "metadata": {
        "colab": {
          "base_uri": "https://localhost:8080/",
          "height": 762
        },
        "id": "YQBI175ayEHw",
        "outputId": "9f1f7577-10a3-4bbb-f23b-18a13028aa59"
      },
      "execution_count": 73,
      "outputs": [
        {
          "output_type": "stream",
          "name": "stderr",
          "text": [
            "<ipython-input-73-9f844d294212>:4: SettingWithCopyWarning: \n",
            "A value is trying to be set on a copy of a slice from a DataFrame.\n",
            "Try using .loc[row_indexer,col_indexer] = value instead\n",
            "\n",
            "See the caveats in the documentation: https://pandas.pydata.org/pandas-docs/stable/user_guide/indexing.html#returning-a-view-versus-a-copy\n",
            "  filtered_df[col] = pd.to_numeric(filtered_df[col], errors=\"coerce\")\n"
          ]
        },
        {
          "output_type": "display_data",
          "data": {
            "text/plain": [
              "<Figure size 1000x600 with 1 Axes>"
            ],
            "image/png": "[encoded data removed]"
          },
          "metadata": {}
        }
      ]
    },
    {
      "cell_type": "code",
      "source": [
        "# Check if GDP values are the same across all years\n",
        "gdp_columns = [\"2021 [YR2021]\", \"2022 [YR2022]\", \"2023 [YR2023]\"]\n",
        "\n",
        "# Find rows where all GDP values are identical\n",
        "duplicated_gdp = merged_df[gdp_columns].nunique(axis=1) == 1\n",
        "\n",
        "# Display affected rows\n",
        "print(\"Rows where GDP values are the same across all years:\")\n",
        "print(merged_df[duplicated_gdp][[\"Country Name\"] + gdp_columns])\n"
      ],
      "metadata": {
        "colab": {
          "base_uri": "https://localhost:8080/"
        },
        "id": "aKbA236WC21c",
        "outputId": "e55b5599-0fb7-406f-e82f-f9caec747a5e"
      },
      "execution_count": 81,
      "outputs": [
        {
          "output_type": "stream",
          "name": "stdout",
          "text": [
            "Rows where GDP values are the same across all years:\n",
            "     Country Name  2021 [YR2021] 2022 [YR2022] 2023 [YR2023]\n",
            "4           Aruba            NaN            ..            ..\n",
            "5           Aruba            NaN            ..            ..\n",
            "6           Aruba            NaN            ..            ..\n",
            "7           Aruba            NaN            ..            ..\n",
            "36    Afghanistan            NaN            ..            ..\n",
            "...           ...            ...           ...           ...\n",
            "4203  Yemen, Rep.            NaN            ..            ..\n",
            "4204  Yemen, Rep.            NaN            ..            ..\n",
            "4205  Yemen, Rep.            NaN            ..            ..\n",
            "4206  Yemen, Rep.            NaN            ..            ..\n",
            "4207  Yemen, Rep.            NaN            ..            ..\n",
            "\n",
            "[624 rows x 4 columns]\n"
          ]
        }
      ]
    },
    {
      "cell_type": "code",
      "source": [
        "# Replace \"..\" with NaN\n",
        "merged_df.replace(\"..\", np.nan, inplace=True)\n"
      ],
      "metadata": {
        "id": "ja5uwfZvDJjy"
      },
      "execution_count": 82,
      "outputs": []
    },
    {
      "cell_type": "code",
      "source": [
        "# Convert GDP columns to numeric (ensuring correct datatype)\n",
        "gdp_columns = [\"2021 [YR2021]\", \"2022 [YR2022]\", \"2023 [YR2023]\"]\n",
        "merged_df[gdp_columns] = merged_df[gdp_columns].apply(pd.to_numeric, errors=\"coerce\")\n"
      ],
      "metadata": {
        "id": "iOoK7X01Dnkx"
      },
      "execution_count": 84,
      "outputs": []
    },
    {
      "cell_type": "code",
      "source": [
        "# Forward fill missing GDP values within each country\n",
        "merged_df[gdp_columns] = merged_df.groupby(\"Country Name\")[gdp_columns].ffill()\n"
      ],
      "metadata": {
        "id": "L43E34NVDonm"
      },
      "execution_count": 85,
      "outputs": []
    },
    {
      "cell_type": "code",
      "source": [
        "# Fill remaining NaN GDP values with the country's median GDP\n",
        "merged_df[gdp_columns] = merged_df[gdp_columns].apply(lambda x: x.fillna(x.median()), axis=1)\n"
      ],
      "metadata": {
        "id": "JgbJZrj8DrbJ"
      },
      "execution_count": 86,
      "outputs": []
    },
    {
      "cell_type": "code",
      "source": [
        "import pandas as pd\n",
        "import matplotlib.pyplot as plt\n",
        "\n",
        "# Use the correct file path (this should match the uploaded file's location)\n",
        "file_path = \"/content/Merged_Global_Indicators.csv\"  # Path for uploaded files\n",
        "\n",
        "# Load the dataset\n",
        "merged_df = pd.read_csv(file_path)\n",
        "\n",
        "# Convert GDP columns to numeric\n",
        "gdp_columns = [\"2021 [YR2021]\", \"2022 [YR2022]\", \"2023 [YR2023]\"]\n",
        "for col in gdp_columns:\n",
        "    merged_df[col] = pd.to_numeric(merged_df[col], errors=\"coerce\")\n",
        "\n",
        "print(\"Dataset loaded successfully!\")\n",
        "print(merged_df.head())  # Preview the data\n"
      ],
      "metadata": {
        "colab": {
          "base_uri": "https://localhost:8080/"
        },
        "id": "gsCtmTpDBMUL",
        "outputId": "5451ec35-d460-4d60-de60-00d6ed244a53"
      },
      "execution_count": 5,
      "outputs": [
        {
          "output_type": "stream",
          "name": "stdout",
          "text": [
            "Dataset loaded successfully!\n",
            "  Country Name Country Code                               Series Name  \\\n",
            "0        Aruba          ABW  GDP, PPP (constant 2021 international $)   \n",
            "1        Aruba          ABW  GDP, PPP (constant 2021 international $)   \n",
            "2        Aruba          ABW  GDP, PPP (constant 2021 international $)   \n",
            "3        Aruba          ABW  GDP, PPP (constant 2021 international $)   \n",
            "4        Aruba          ABW     Inflation, consumer prices (annual %)   \n",
            "\n",
            "         Series Code  2021 [YR2021]  2022 [YR2022]  2023 [YR2023]  \\\n",
            "0  NY.GDP.MKTP.PP.KD   3.844493e+09   4.171963e+09   4.349844e+09   \n",
            "1  NY.GDP.MKTP.PP.KD   3.844493e+09   4.171963e+09   4.349844e+09   \n",
            "2  NY.GDP.MKTP.PP.KD   3.844493e+09   4.171963e+09   4.349844e+09   \n",
            "3  NY.GDP.MKTP.PP.KD   3.844493e+09   4.171963e+09   4.349844e+09   \n",
            "4     FP.CPI.TOTL.ZG            NaN            NaN            NaN   \n",
            "\n",
            "                                  Series Name_social Series Code_social  \\\n",
            "0            Life expectancy at birth, total (years)     SP.DYN.LE00.IN   \n",
            "1  Literacy rate, adult total (% of people ages 1...     SE.ADT.LITR.ZS   \n",
            "2  Poverty headcount ratio at $2.15 a day (2017 P...        SI.POV.DDAY   \n",
            "3  Unemployment, total (% of total labor force) (...     SL.UEM.TOTL.ZS   \n",
            "4            Life expectancy at birth, total (years)     SP.DYN.LE00.IN   \n",
            "\n",
            "  2021 [YR2021]_social  ... 2021 [YR2021]_env 2022 [YR2022]_env  \\\n",
            "0               74.626  ...  2.33333333333333  2.33333333333333   \n",
            "1                   ..  ...  2.33333333333333  2.33333333333333   \n",
            "2                   ..  ...  2.33333333333333  2.33333333333333   \n",
            "3                   ..  ...  2.33333333333333  2.33333333333333   \n",
            "4               74.626  ...  2.33333333333333  2.33333333333333   \n",
            "\n",
            "  2023 [YR2023]_env                                  Series Name_stats  \\\n",
            "0                ..  Official exchange rate (LCU per US$, period av...   \n",
            "1                ..  Official exchange rate (LCU per US$, period av...   \n",
            "2                ..  Official exchange rate (LCU per US$, period av...   \n",
            "3                ..  Official exchange rate (LCU per US$, period av...   \n",
            "4                ..  Official exchange rate (LCU per US$, period av...   \n",
            "\n",
            "  Series Code_stats 2021 [YR2021]_stats 2022 [YR2022]_stats  \\\n",
            "0       PA.NUS.FCRF                1.79                1.79   \n",
            "1       PA.NUS.FCRF                1.79                1.79   \n",
            "2       PA.NUS.FCRF                1.79                1.79   \n",
            "3       PA.NUS.FCRF                1.79                1.79   \n",
            "4       PA.NUS.FCRF                1.79                1.79   \n",
            "\n",
            "  2023 [YR2023]_stats Country_ID   Name  \n",
            "0                1.79        ABW  Aruba  \n",
            "1                1.79        ABW  Aruba  \n",
            "2                1.79        ABW  Aruba  \n",
            "3                1.79        ABW  Aruba  \n",
            "4                1.79        ABW  Aruba  \n",
            "\n",
            "[5 rows x 24 columns]\n"
          ]
        }
      ]
    },
    {
      "cell_type": "code",
      "source": [
        "# Define list of non-country aggregates to remove\n",
        "exclude_list = [\"World\", \"IDA & IBRD total\", \"IBRD only\", \"High income\", \"Middle income\", \"Low income\"]\n",
        "filtered_df = merged_df[~merged_df[\"Country Name\"].isin(exclude_list)]\n"
      ],
      "metadata": {
        "id": "ySd0Eh4pCotI"
      },
      "execution_count": 6,
      "outputs": []
    },
    {
      "cell_type": "code",
      "source": [
        "# Select only GDP-related columns and sort by 2021 GDP\n",
        "top_gdp_countries = filtered_df.nlargest(5, \"2021 [YR2021]\")[[\"Country Name\", \"2021 [YR2021]\", \"2022 [YR2022]\", \"2023 [YR2023]\"]]\n",
        "print(top_gdp_countries)\n"
      ],
      "metadata": {
        "colab": {
          "base_uri": "https://localhost:8080/"
        },
        "id": "sNPZGxKdCqSG",
        "outputId": "2208f330-97d8-4080-ccc9-ac1a95e0a4d4"
      },
      "execution_count": 7,
      "outputs": [
        {
          "output_type": "stream",
          "name": "stdout",
          "text": [
            "             Country Name  2021 [YR2021]  2022 [YR2022]  2023 [YR2023]\n",
            "2240  Low & middle income   7.847501e+13   8.161656e+13   8.548911e+13\n",
            "2241  Low & middle income   7.847501e+13   8.161656e+13   8.548911e+13\n",
            "2242  Low & middle income   7.847501e+13   8.161656e+13   8.548911e+13\n",
            "2243  Low & middle income   7.847501e+13   8.161656e+13   8.548911e+13\n",
            "2896         OECD members   6.959186e+13   7.180082e+13   7.308624e+13\n"
          ]
        }
      ]
    },
    {
      "cell_type": "code",
      "source": [
        "# Define a list of aggregates (non-country entries) to exclude\n",
        "exclude_list = [\n",
        "    \"World\", \"IDA & IBRD total\", \"IBRD only\", \"High income\", \"Middle income\", \"Low income\",\n",
        "    \"OECD members\", \"Low & middle income\", \"Upper middle income\", \"Lower middle income\",\n",
        "    \"East Asia & Pacific\", \"Europe & Central Asia\", \"Latin America & Caribbean\",\n",
        "    \"North America\", \"South Asia\", \"Sub-Saharan Africa\"\n",
        "]\n",
        "\n",
        "# Filter out non-country aggregates\n",
        "filtered_df = merged_df[~merged_df[\"Country Name\"].isin(exclude_list)]\n",
        "\n",
        "# Display unique country names to verify filtering\n",
        "print(f\"Number of unique countries remaining: {filtered_df['Country Name'].nunique()}\")\n"
      ],
      "metadata": {
        "colab": {
          "base_uri": "https://localhost:8080/"
        },
        "id": "fwlRZbdmDI4o",
        "outputId": "e849c965-6b6f-457c-e5e6-6e7f8790a7b1"
      },
      "execution_count": 8,
      "outputs": [
        {
          "output_type": "stream",
          "name": "stdout",
          "text": [
            "Number of unique countries remaining: 250\n"
          ]
        }
      ]
    },
    {
      "cell_type": "code",
      "source": [
        "# Get a sample of unique country names\n",
        "unique_countries = merged_df[\"Country Name\"].unique()\n",
        "print(\"🔍 Sample Unique Country Names:\", unique_countries[:50])  # Show the first 50\n"
      ],
      "metadata": {
        "colab": {
          "base_uri": "https://localhost:8080/"
        },
        "id": "UG_5HzMFF_tP",
        "outputId": "31df6a6d-7bea-4e13-d319-e4ab17a49737"
      },
      "execution_count": 19,
      "outputs": [
        {
          "output_type": "stream",
          "name": "stdout",
          "text": [
            "🔍 Sample Unique Country Names: ['Aruba' 'Africa Eastern and Southern' 'Afghanistan'\n",
            " 'Africa Western and Central' 'Angola' 'Albania' 'Andorra' 'Arab World'\n",
            " 'United Arab Emirates' 'Argentina' 'Armenia' 'American Samoa'\n",
            " 'Antigua and Barbuda' 'Australia' 'Austria' 'Azerbaijan' 'Burundi'\n",
            " 'Belgium' 'Benin' 'Burkina Faso' 'Bangladesh' 'Bulgaria' 'Bahrain'\n",
            " 'Bahamas, The' 'Bosnia and Herzegovina' 'Belarus' 'Belize' 'Bermuda'\n",
            " 'Bolivia' 'Brazil' 'Barbados' 'Brunei Darussalam' 'Bhutan' 'Botswana'\n",
            " 'Central African Republic' 'Canada' 'Central Europe and the Baltics'\n",
            " 'Switzerland' 'Channel Islands' 'Chile' 'China' \"Cote d'Ivoire\"\n",
            " 'Cameroon' 'Congo, Dem. Rep.' 'Congo, Rep.' 'Colombia' 'Comoros'\n",
            " 'Cabo Verde' 'Costa Rica' 'Caribbean small states']\n"
          ]
        }
      ]
    },
    {
      "cell_type": "code",
      "source": [
        "# Expanded exclude list to remove ALL non-country entities\n",
        "exclude_list = [\n",
        "    \"World\", \"IDA & IBRD total\", \"IBRD only\", \"High income\",\n",
        "    \"Middle income\", \"Low income\", \"Europe & Central Asia\",\n",
        "    \"East Asia & Pacific\", \"OECD members\", \"Latin America & Caribbean\",\n",
        "    \"Low & middle income\", \"Post-demographic dividend\", \"Upper middle income\",\n",
        "    \"Early-demographic dividend\", \"Late-demographic dividend\",\n",
        "    \"East Asia & Pacific (IDA & IBRD countries)\", \"East Asia & Pacific (excluding high income)\",\n",
        "    \"North America\", \"European Union\", \"Lower middle income\",\n",
        "    \"South Asia\", \"South Asia (IDA & IBRD)\", \"Euro area\", \"East Asia & Pacific (excluding high income)\"\n",
        "]\n",
        "\n",
        "# Remove non-country aggregates\n",
        "filtered_df = merged_df[~merged_df[\"Country Name\"].isin(exclude_list)].copy()\n"
      ],
      "metadata": {
        "id": "gKEa52vGGFBH"
      },
      "execution_count": 21,
      "outputs": []
    },
    {
      "cell_type": "code",
      "source": [
        "# FINAL expanded exclude list (adding the last missing ones)\n",
        "exclude_list = [\n",
        "    \"World\", \"IDA & IBRD total\", \"IBRD only\", \"High income\",\n",
        "    \"Middle income\", \"Low income\", \"Europe & Central Asia\",\n",
        "    \"East Asia & Pacific\", \"OECD members\", \"Latin America & Caribbean\",\n",
        "    \"Low & middle income\", \"Post-demographic dividend\", \"Upper middle income\",\n",
        "    \"Early-demographic dividend\", \"Late-demographic dividend\",\n",
        "    \"East Asia & Pacific (IDA & IBRD countries)\", \"East Asia & Pacific (excluding high income)\",\n",
        "    \"North America\", \"European Union\", \"Lower middle income\",\n",
        "    \"South Asia\", \"South Asia (IDA & IBRD)\", \"Euro area\",\n",
        "    \"Europe & Central Asia (IDA & IBRD countries)\",\n",
        "    \"Latin America & the Caribbean (IDA & IBRD countries)\",\n",
        "    \"Latin America & Caribbean (excluding high income)\",\n",
        "    \"Middle East & North Africa\",\n",
        "    \"IDA total\",  # ❌ REMOVE THIS\n",
        "    \"Arab World\"  # ❌ REMOVE THIS\n",
        "]\n",
        "\n",
        "# Remove non-country aggregates\n",
        "filtered_df = merged_df[~merged_df[\"Country Name\"].isin(exclude_list)].copy()\n",
        "\n",
        "# Convert GDP columns to numeric\n",
        "gdp_cols = [\"2021 [YR2021]\", \"2022 [YR2022]\", \"2023 [YR2023]\"]\n",
        "filtered_df[gdp_cols] = filtered_df[gdp_cols].apply(pd.to_numeric, errors=\"coerce\")\n",
        "\n",
        "# Drop duplicate country names (ensuring unique country selection)\n",
        "filtered_df = filtered_df.drop_duplicates(subset=[\"Country Name\"])\n",
        "\n",
        "# Get top 5 countries by GDP in 2021\n",
        "top_gdp_countries = (\n",
        "    filtered_df.nlargest(5, \"2021 [YR2021]\")  # Select top 5 by GDP\n",
        "    [[\"Country Name\", \"2021 [YR2021]\", \"2022 [YR2022]\", \"2023 [YR2023]\"]]\n",
        ")\n",
        "\n",
        "# Display results\n",
        "print(\"✅ FINAL FINAL FINAL FINAL Top 5 Countries by GDP (PPP, constant 2021 $):\")\n",
        "print(top_gdp_countries)\n"
      ],
      "metadata": {
        "colab": {
          "base_uri": "https://localhost:8080/"
        },
        "id": "f9T3WIBcHPsZ",
        "outputId": "2f211caa-55f9-47a4-89df-c1666396576e"
      },
      "execution_count": 26,
      "outputs": [
        {
          "output_type": "stream",
          "name": "stdout",
          "text": [
            "✅ FINAL FINAL FINAL FINAL Top 5 Countries by GDP (PPP, constant 2021 $):\n",
            "            Country Name  2021 [YR2021]  2022 [YR2022]  2023 [YR2023]\n",
            "640                China   2.882165e+13   2.967208e+13   3.122973e+13\n",
            "4016       United States   2.368117e+13   2.427613e+13   2.497712e+13\n",
            "1744               India   1.138437e+13   1.217980e+13   1.317281e+13\n",
            "3232  Russian Federation   5.732444e+12   5.613799e+12   5.815895e+12\n",
            "1904               Japan   5.573684e+12   5.626898e+12   5.721375e+12\n"
          ]
        }
      ]
    }
  ]
}